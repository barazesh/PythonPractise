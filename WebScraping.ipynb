{
 "cells": [
  {
   "cell_type": "code",
   "execution_count": 235,
   "metadata": {},
   "outputs": [],
   "source": [
    "from selenium import webdriver\r\n",
    "from selenium.webdriver.common.by import By\r\n",
    "from selenium.webdriver.support.ui import WebDriverWait, Select\r\n",
    "from selenium.webdriver.support import expected_conditions as EC"
   ]
  },
  {
   "cell_type": "code",
   "execution_count": 236,
   "metadata": {},
   "outputs": [],
   "source": [
    "driver=webdriver.Firefox()\r\n",
    "driver.get(\"http://www.time.ir/fa/eventyear\")"
   ]
  },
  {
   "cell_type": "code",
   "execution_count": 237,
   "metadata": {},
   "outputs": [],
   "source": [
    "year=1363\r\n",
    "year_selector=driver.find_element_by_id('ctl00_cphTop_Sampa_Web_View_EventUI_EventYearCalendar10cphTop_3417_txtYear')\r\n",
    "year_selector.clear()\r\n",
    "year_selector.send_keys(str(year))\r\n",
    "driver.find_element_by_id('ctl00_cphTop_Sampa_Web_View_EventUI_EventYearCalendar10cphTop_3417_btnGo').click()\r\n",
    "page = driver.page_source"
   ]
  },
  {
   "cell_type": "code",
   "execution_count": 238,
   "metadata": {},
   "outputs": [],
   "source": [
    "from bs4 import BeautifulSoup as BS"
   ]
  },
  {
   "cell_type": "code",
   "execution_count": null,
   "metadata": {},
   "outputs": [],
   "source": [
    "soup = BS(page, 'lxml')\r\n",
    "months = soup.select(\r\n",
    "    '#ctl00_cphTop_Sampa_Web_View_EventUI_EventYearCalendar10cphTop_3417_pnlYearCalendar .panel.panel-body')\r\n",
    "monthCounter = 0\r\n",
    "for m in months:\r\n",
    "    monthCounter += 1\r\n",
    "    print('************')\r\n",
    "    print(f'month: {monthCounter}')\r\n",
    "    days = m.select('.eventCalendar .mainCalendar .dayList > div')\r\n",
    "    print('###')\r\n",
    "    for d in days:\r\n",
    "        isDisabled=any(d.select('.disabled'))\r\n",
    "        if not isDisabled:\r\n",
    "            if d.select('.holiday'):\r\n",
    "                print('*Holiday*')\r\n",
    "            jalali=d.select('.jalali')[0].string\r\n",
    "            miladi=d.select('.miladi')[0].string\r\n",
    "            qamari=d.select('.qamari')[0].string\r\n",
    "            print(f'Jalali: {jalali} -- Miladi: {miladi} -- Qamari: {qamari}')\r\n",
    "        print('-----------------')\r\n"
   ]
  }
 ],
 "metadata": {
  "kernelspec": {
   "display_name": "Python 3.9.1 64-bit",
   "name": "python391jvsc74a57bd0a2183a5ab792103744c4c9d4d8680b943b55eeeca7c7df36b2098464dbf464f0"
  },
  "language_info": {
   "codemirror_mode": {
    "name": "ipython",
    "version": 3
   },
   "file_extension": ".py",
   "mimetype": "text/x-python",
   "name": "python",
   "nbconvert_exporter": "python",
   "pygments_lexer": "ipython3",
   "version": "3.9.1"
  },
  "orig_nbformat": 2
 },
 "nbformat": 4,
 "nbformat_minor": 2
}