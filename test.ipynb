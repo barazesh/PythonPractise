{
 "cells": [
  {
   "cell_type": "code",
   "execution_count": 16,
   "metadata": {},
   "outputs": [
    {
     "name": "stdout",
     "output_type": "stream",
     "text": [
      "YES\n"
     ]
    }
   ],
   "source": [
    "T = int(input())\r\n",
    "for t in range(T):\r\n",
    "    inputStrList = input().split()\r\n",
    "    result = \"YES\"\r\n",
    "    inp = [int(i) for i in inputStrList]\r\n",
    "    if (inp[4] < inp[0] or inp[5] < inp[1] or inp[6] < inp[2] or inp[4]+inp[5]+inp[6] < inp[3]):\r\n",
    "        result = \"NO\"\r\n",
    "    print(result)"
   ]
  },
  {
   "cell_type": "code",
   "execution_count": null,
   "metadata": {},
   "outputs": [],
   "source": [
    "T = int(input())\r\n",
    "for t in range(T):\r\n",
    "    inputStrList = input().split()\r\n",
    "    n = int(inputStrList[0])\r\n",
    "    x = int(inputStrList[1])\r\n",
    "    tempinput = input().split()\r\n",
    "    flavors = [int(i) for i in tempinput]\r\n",
    "    sab = 0\r\n",
    "    bro = 0\r\n",
    "    dist_flavors = set()\r\n",
    "    for f in flavors:\r\n",
    "        if f in dist_flavors:\r\n",
    "            bro +=1\r\n",
    "        else:\r\n",
    "            dist_flavors.add(f)\r\n",
    "            sab +=1\r\n",
    "    result = sab\r\n",
    "    if bro < x:\r\n",
    "        result -=(x-bro)\r\n",
    "    print(result)"
   ]
  },
  {
   "cell_type": "code",
   "execution_count": null,
   "metadata": {},
   "outputs": [],
   "source": [
    "T = int(input())\r\n",
    "for t in range(T):\r\n",
    "    inputStrList = input().split()\r\n",
    "    N = int(inputStrList[0])\r\n",
    "    R = int(inputStrList[1])\r\n",
    "    tempinput1 = input().split()\r\n",
    "    A = [int(i) for i in tempinput1]\r\n",
    "    tempinput2 = input().split()\r\n",
    "    B = [int(i) for i in tempinput2]\r\n",
    "    tens = 0\r\n",
    "    max_tens = 0\r\n",
    "    if N == 1:\r\n",
    "        max_tens = B[0]\r\n",
    "    else:\r\n",
    "        for i, b in enumerate(B):\r\n",
    "            tens += b\r\n",
    "            if tens > max_tens:\r\n",
    "                max_tens = tens\r\n",
    "            if i < N-1:\r\n",
    "                tens -= R*(A[i+1]-A[i])\r\n",
    "                tens=max(tens,0)          \r\n",
    "    print(max_tens)"
   ]
  },
  {
   "cell_type": "code",
   "execution_count": 3,
   "metadata": {},
   "outputs": [
    {
     "data": {
      "text/plain": "[5, 56]"
     },
     "execution_count": 3,
     "metadata": {},
     "output_type": "execute_result"
    }
   ],
   "source": [
    "A=[2,3 ,4 ,5, 56 ,6 ,7 ,8 ,8]\r\n",
    "A[3:5]"
   ]
  }
 ],
 "metadata": {
  "kernelspec": {
   "display_name": "Python 3.9.1 64-bit",
   "name": "python391jvsc74a57bd0a2183a5ab792103744c4c9d4d8680b943b55eeeca7c7df36b2098464dbf464f0"
  },
  "language_info": {
   "codemirror_mode": {
    "name": "ipython",
    "version": 3
   },
   "file_extension": ".py",
   "mimetype": "text/x-python",
   "name": "python",
   "nbconvert_exporter": "python",
   "pygments_lexer": "ipython3",
   "version": "3.9.1"
  },
  "orig_nbformat": 2
 },
 "nbformat": 4,
 "nbformat_minor": 2
}